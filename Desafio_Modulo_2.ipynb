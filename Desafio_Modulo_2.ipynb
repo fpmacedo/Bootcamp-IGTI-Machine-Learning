{
  "nbformat": 4,
  "nbformat_minor": 0,
  "metadata": {
    "colab": {
      "name": "Desafio Modulo 2.ipynb",
      "provenance": [],
      "authorship_tag": "ABX9TyPSwNPkjJ5Gf7aBj6rd849i",
      "include_colab_link": true
    },
    "kernelspec": {
      "name": "python3",
      "display_name": "Python 3"
    }
  },
  "cells": [
    {
      "cell_type": "markdown",
      "metadata": {
        "id": "view-in-github",
        "colab_type": "text"
      },
      "source": [
        "<a href=\"https://colab.research.google.com/github/fpmacedo/Bootcamp-IGTI-Machine-Learning/blob/main/Desafio_Modulo_2.ipynb\" target=\"_parent\"><img src=\"https://colab.research.google.com/assets/colab-badge.svg\" alt=\"Open In Colab\"/></a>"
      ]
    },
    {
      "cell_type": "code",
      "metadata": {
        "id": "0a57qRPhG39l"
      },
      "source": [
        "import numpy as np\r\n",
        "import pandas as pd"
      ],
      "execution_count": null,
      "outputs": []
    },
    {
      "cell_type": "code",
      "metadata": {
        "id": "1wqZ4BacG8fA"
      },
      "source": [
        "df = pd.read_csv('https://pycourse.s3.amazonaws.com/banknote_authentication.txt', header = None, names=['variance', 'skewness', 'curtosis', 'entropy', 'class'])"
      ],
      "execution_count": null,
      "outputs": []
    },
    {
      "cell_type": "markdown",
      "metadata": {
        "id": "3dEtdx4pJ22J"
      },
      "source": [
        "Qual o tamanho desse dataset (número de linhas, número de colunas)?"
      ]
    },
    {
      "cell_type": "code",
      "metadata": {
        "colab": {
          "base_uri": "https://localhost:8080/"
        },
        "id": "B3rG_T1vHRU5",
        "outputId": "a4491f57-4c18-454c-d6ca-a1658bb9a1e4"
      },
      "source": [
        "df.shape"
      ],
      "execution_count": null,
      "outputs": [
        {
          "output_type": "execute_result",
          "data": {
            "text/plain": [
              "(1372, 5)"
            ]
          },
          "metadata": {
            "tags": []
          },
          "execution_count": 22
        }
      ]
    },
    {
      "cell_type": "markdown",
      "metadata": {
        "id": "4wsRy-cDJ3y9"
      },
      "source": [
        "Qual variável possui o maior range (diferença entre valor máximo e mínimo)?"
      ]
    },
    {
      "cell_type": "code",
      "metadata": {
        "colab": {
          "base_uri": "https://localhost:8080/"
        },
        "id": "vafuOboUJ5vF",
        "outputId": "e54d602a-4ff3-4209-d10d-37b181bb054d"
      },
      "source": [
        "columns = df.columns\r\n",
        "for column in columns:\r\n",
        "  range = max(df[column]) - min(df[column])\r\n",
        "  print(\"Column = {:} Range = {:.2f}\".format(column, range))"
      ],
      "execution_count": null,
      "outputs": [
        {
          "output_type": "stream",
          "text": [
            "Column = variance Range = 13.87\n",
            "Column = skewness Range = 26.72\n",
            "Column = curtosis Range = 23.21\n",
            "Column = entropy Range = 11.00\n",
            "Column = class Range = 1.00\n"
          ],
          "name": "stdout"
        }
      ]
    },
    {
      "cell_type": "markdown",
      "metadata": {
        "id": "v_7rdsQDLABo"
      },
      "source": [
        "Qual a média da coluna skewness?"
      ]
    },
    {
      "cell_type": "code",
      "metadata": {
        "colab": {
          "base_uri": "https://localhost:8080/"
        },
        "id": "jDPVYpzhLBna",
        "outputId": "ba70175d-fcd2-48e9-86b2-a11b72adaf24"
      },
      "source": [
        "df['skewness'].mean()"
      ],
      "execution_count": null,
      "outputs": [
        {
          "output_type": "execute_result",
          "data": {
            "text/plain": [
              "1.9223531206393603"
            ]
          },
          "metadata": {
            "tags": []
          },
          "execution_count": 30
        }
      ]
    },
    {
      "cell_type": "markdown",
      "metadata": {
        "id": "rUQpUqdxLK55"
      },
      "source": [
        "Qual a média da coluna entropy?"
      ]
    },
    {
      "cell_type": "code",
      "metadata": {
        "colab": {
          "base_uri": "https://localhost:8080/"
        },
        "id": "uMIL6Pk1LLWx",
        "outputId": "1579d044-4ef3-4aea-f40f-5930f2b5eb44"
      },
      "source": [
        "df['entropy'].mean()"
      ],
      "execution_count": null,
      "outputs": [
        {
          "output_type": "execute_result",
          "data": {
            "text/plain": [
              "-1.191656520043731"
            ]
          },
          "metadata": {
            "tags": []
          },
          "execution_count": 31
        }
      ]
    },
    {
      "cell_type": "markdown",
      "metadata": {
        "id": "g2YGtMIDLPqa"
      },
      "source": [
        "Qual a mediana da coluna variance?"
      ]
    },
    {
      "cell_type": "code",
      "metadata": {
        "colab": {
          "base_uri": "https://localhost:8080/"
        },
        "id": "1Rv86a1BLQDf",
        "outputId": "da4eab52-7964-40ed-8992-98f4ce390da0"
      },
      "source": [
        "df['variance'].median()"
      ],
      "execution_count": null,
      "outputs": [
        {
          "output_type": "execute_result",
          "data": {
            "text/plain": [
              "0.49618"
            ]
          },
          "metadata": {
            "tags": []
          },
          "execution_count": 34
        }
      ]
    },
    {
      "cell_type": "markdown",
      "metadata": {
        "id": "m2CF3etPLg0B"
      },
      "source": [
        "Qual a desvio padrão da coluna curtosis?"
      ]
    },
    {
      "cell_type": "code",
      "metadata": {
        "colab": {
          "base_uri": "https://localhost:8080/"
        },
        "id": "5h2kvpVSLhZu",
        "outputId": "0210d270-93ce-47bf-aa70-eea1f46384f7"
      },
      "source": [
        "df['curtosis'].std()"
      ],
      "execution_count": null,
      "outputs": [
        {
          "output_type": "execute_result",
          "data": {
            "text/plain": [
              "4.310030090106595"
            ]
          },
          "metadata": {
            "tags": []
          },
          "execution_count": 35
        }
      ]
    },
    {
      "cell_type": "markdown",
      "metadata": {
        "id": "BsmO0LFTLmpb"
      },
      "source": [
        "Qual a porcentagem de exemplos do dataset que são cédulas falsas (class=1)?"
      ]
    },
    {
      "cell_type": "code",
      "metadata": {
        "colab": {
          "base_uri": "https://localhost:8080/"
        },
        "id": "MKsKJp9RMVcB",
        "outputId": "b76cd724-1e57-42e6-a176-a457a159101b"
      },
      "source": [
        "rows=len(df)\r\n",
        "100*(df['class'].sum()/rows)"
      ],
      "execution_count": null,
      "outputs": [
        {
          "output_type": "execute_result",
          "data": {
            "text/plain": [
              "44.460641399416915"
            ]
          },
          "metadata": {
            "tags": []
          },
          "execution_count": 44
        }
      ]
    },
    {
      "cell_type": "markdown",
      "metadata": {
        "id": "Z9B87JKFMoXw"
      },
      "source": [
        "Qual o valor da correlação de Pearson entre as variáveis skewness e curtosis?"
      ]
    },
    {
      "cell_type": "code",
      "metadata": {
        "colab": {
          "base_uri": "https://localhost:8080/"
        },
        "id": "50x5K8TMMp_J",
        "outputId": "d88ec27e-ca9b-46bb-d507-7113388110fb"
      },
      "source": [
        "df['skewness'].corr(df['curtosis'])"
      ],
      "execution_count": null,
      "outputs": [
        {
          "output_type": "execute_result",
          "data": {
            "text/plain": [
              "-0.7868952243065794"
            ]
          },
          "metadata": {
            "tags": []
          },
          "execution_count": 45
        }
      ]
    },
    {
      "cell_type": "code",
      "metadata": {
        "id": "QKHOtt5sHUl5"
      },
      "source": [
        "from sklearn.model_selection import train_test_split\r\n",
        "X = df.iloc[:,:4]\r\n",
        "y = df.iloc[:,4:5]\r\n",
        "X_train, X_test, y_train, y_test = train_test_split(X, y, test_size=0.3, random_state=1)"
      ],
      "execution_count": null,
      "outputs": []
    },
    {
      "cell_type": "markdown",
      "metadata": {
        "id": "yKPd2ZWeM73d"
      },
      "source": [
        "Qual a acurácia do KNN no conjunto de teste?"
      ]
    },
    {
      "cell_type": "code",
      "metadata": {
        "colab": {
          "base_uri": "https://localhost:8080/"
        },
        "id": "thvDoShGIEW4",
        "outputId": "f1d2ea15-a614-43dc-dbc8-1d8d512865bc"
      },
      "source": [
        "from sklearn.neighbors import KNeighborsClassifier\r\n",
        "from sklearn.metrics import accuracy_score\r\n",
        "clf_KNN = KNeighborsClassifier(n_neighbors=5)\r\n",
        "clf_KNN.fit(X_train,y_train)\r\n",
        "predict_knn = clf_KNN.predict(X_test)\r\n",
        "accuracy_score(y_test, predict_knn)"
      ],
      "execution_count": null,
      "outputs": [
        {
          "output_type": "stream",
          "text": [
            "/usr/local/lib/python3.6/dist-packages/ipykernel_launcher.py:4: DataConversionWarning: A column-vector y was passed when a 1d array was expected. Please change the shape of y to (n_samples, ), for example using ravel().\n",
            "  after removing the cwd from sys.path.\n"
          ],
          "name": "stderr"
        },
        {
          "output_type": "execute_result",
          "data": {
            "text/plain": [
              "0.9975728155339806"
            ]
          },
          "metadata": {
            "tags": []
          },
          "execution_count": 46
        }
      ]
    },
    {
      "cell_type": "markdown",
      "metadata": {
        "id": "oIWsCfYtNOFZ"
      },
      "source": [
        "Qual a acurácia da Árvore de Decisão no conjunto de teste?"
      ]
    },
    {
      "cell_type": "code",
      "metadata": {
        "colab": {
          "base_uri": "https://localhost:8080/"
        },
        "id": "QAjKO4dtIwBP",
        "outputId": "caa3551b-5be5-42bc-b56a-067d3ef108d3"
      },
      "source": [
        "from sklearn.tree import DecisionTreeClassifier\r\n",
        "clf_arvore = DecisionTreeClassifier(random_state=1)\r\n",
        "clf_arvore.fit(X_train,y_train)\r\n",
        "clf_arvore.predict(X_test)\r\n",
        "predict_arvore = clf_arvore.predict(X_test)\r\n",
        "accuracy_score(y_test, predict_arvore)"
      ],
      "execution_count": null,
      "outputs": [
        {
          "output_type": "execute_result",
          "data": {
            "text/plain": [
              "0.9878640776699029"
            ]
          },
          "metadata": {
            "tags": []
          },
          "execution_count": 48
        }
      ]
    },
    {
      "cell_type": "markdown",
      "metadata": {
        "id": "IZx263m6NYDg"
      },
      "source": [
        "Qual a acurácia do Random Forest no conjunto de teste?"
      ]
    },
    {
      "cell_type": "code",
      "metadata": {
        "colab": {
          "base_uri": "https://localhost:8080/"
        },
        "id": "8EU5uFHlI1nR",
        "outputId": "a4e15fb3-6750-41ca-9811-7cf055277975"
      },
      "source": [
        "from sklearn.ensemble import RandomForestClassifier\r\n",
        "clf_floresta = RandomForestClassifier(max_depth=8, random_state=1)\r\n",
        "clf_floresta.fit(X_train,y_train)\r\n",
        "clf_floresta.predict(X_test)\r\n",
        "predict_floresta = clf_floresta.predict(X_test)\r\n",
        "accuracy_score(y_test, predict_floresta)"
      ],
      "execution_count": null,
      "outputs": [
        {
          "output_type": "stream",
          "text": [
            "/usr/local/lib/python3.6/dist-packages/ipykernel_launcher.py:3: DataConversionWarning: A column-vector y was passed when a 1d array was expected. Please change the shape of y to (n_samples,), for example using ravel().\n",
            "  This is separate from the ipykernel package so we can avoid doing imports until\n"
          ],
          "name": "stderr"
        },
        {
          "output_type": "execute_result",
          "data": {
            "text/plain": [
              "0.9951456310679612"
            ]
          },
          "metadata": {
            "tags": []
          },
          "execution_count": 50
        }
      ]
    },
    {
      "cell_type": "markdown",
      "metadata": {
        "id": "c0NS-lLGN0Pj"
      },
      "source": [
        "Analisando o valor da importância relativa das features do Random Forest (atributo feature_importances_), qual feature melhor contribuiu para a predição de class?"
      ]
    },
    {
      "cell_type": "code",
      "metadata": {
        "colab": {
          "base_uri": "https://localhost:8080/"
        },
        "id": "f4DaHG3hN01k",
        "outputId": "27b30332-c5bd-4dbf-f271-102bc4cc5326"
      },
      "source": [
        "importances = clf_floresta.feature_importances_\r\n",
        "print(importances)\r\n",
        "max(importances)"
      ],
      "execution_count": null,
      "outputs": [
        {
          "output_type": "stream",
          "text": [
            "[0.56066718 0.24058589 0.14022782 0.05851911]\n"
          ],
          "name": "stdout"
        },
        {
          "output_type": "execute_result",
          "data": {
            "text/plain": [
              "0.5606671827369688"
            ]
          },
          "metadata": {
            "tags": []
          },
          "execution_count": 60
        }
      ]
    },
    {
      "cell_type": "markdown",
      "metadata": {
        "id": "u-NblYpCOxmQ"
      },
      "source": [
        "Qual o valor da importância relativa da feature skewness?"
      ]
    },
    {
      "cell_type": "code",
      "metadata": {
        "colab": {
          "base_uri": "https://localhost:8080/"
        },
        "id": "vkdnBLuHOx_o",
        "outputId": "3dc83406-9116-44df-d0c3-7fbcbed0a7fd"
      },
      "source": [
        "print(importances[1])"
      ],
      "execution_count": null,
      "outputs": [
        {
          "output_type": "stream",
          "text": [
            "0.24058588894949182\n"
          ],
          "name": "stdout"
        }
      ]
    },
    {
      "cell_type": "markdown",
      "metadata": {
        "id": "COQiuaOQO4gd"
      },
      "source": [
        "Qual a acurácia do SVM no conjunto de teste?"
      ]
    },
    {
      "cell_type": "code",
      "metadata": {
        "colab": {
          "base_uri": "https://localhost:8080/"
        },
        "id": "m0Pi76cQJbFI",
        "outputId": "c0f82849-eaf8-4257-9c10-cce1668a2a7c"
      },
      "source": [
        "from sklearn.svm import SVC\r\n",
        "clf_svm = SVC(gamma='auto',kernel='rbf', random_state=1)\r\n",
        "clf_svm.fit(X_train,y_train)\r\n",
        "clf_svm.predict(X_test)\r\n",
        "predict_svm = clf_svm.predict(X_test)\r\n",
        "accuracy_score(y_test, predict_svm)"
      ],
      "execution_count": null,
      "outputs": [
        {
          "output_type": "stream",
          "text": [
            "/usr/local/lib/python3.6/dist-packages/sklearn/utils/validation.py:760: DataConversionWarning: A column-vector y was passed when a 1d array was expected. Please change the shape of y to (n_samples, ), for example using ravel().\n",
            "  y = column_or_1d(y, warn=True)\n"
          ],
          "name": "stderr"
        },
        {
          "output_type": "execute_result",
          "data": {
            "text/plain": [
              "1.0"
            ]
          },
          "metadata": {
            "tags": []
          },
          "execution_count": 62
        }
      ]
    },
    {
      "cell_type": "code",
      "metadata": {
        "colab": {
          "base_uri": "https://localhost:8080/"
        },
        "id": "sHVa5Z--Ji4a",
        "outputId": "dd2eb7a0-e15e-4179-dcff-e2e31019a87f"
      },
      "source": [
        "from sklearn.neural_network import MLPClassifier\r\n",
        "clf_mlp = MLPClassifier(hidden_layer_sizes=(2,),\r\n",
        " solver='lbfgs',\r\n",
        "random_state=1)\r\n",
        "clf_mlp.fit(X_train,y_train)\r\n",
        "clf_mlp.predict(X_test)\r\n",
        "predict_mlp = clf_mlp.predict(X_test)\r\n",
        "accuracy_score(y_test, predict_mlp)"
      ],
      "execution_count": null,
      "outputs": [
        {
          "output_type": "stream",
          "text": [
            "/usr/local/lib/python3.6/dist-packages/sklearn/neural_network/_multilayer_perceptron.py:934: DataConversionWarning: A column-vector y was passed when a 1d array was expected. Please change the shape of y to (n_samples, ), for example using ravel().\n",
            "  y = column_or_1d(y, warn=True)\n"
          ],
          "name": "stderr"
        },
        {
          "output_type": "execute_result",
          "data": {
            "text/plain": [
              "1.0"
            ]
          },
          "metadata": {
            "tags": []
          },
          "execution_count": 63
        }
      ]
    }
  ]
}