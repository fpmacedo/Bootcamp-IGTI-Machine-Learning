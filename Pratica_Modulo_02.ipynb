{
  "nbformat": 4,
  "nbformat_minor": 0,
  "metadata": {
    "colab": {
      "name": "Pratica Modulo 02",
      "provenance": [],
      "authorship_tag": "ABX9TyMcvhA/8sPGkuSl1+fmhzDB",
      "include_colab_link": true
    },
    "kernelspec": {
      "name": "python3",
      "display_name": "Python 3"
    }
  },
  "cells": [
    {
      "cell_type": "markdown",
      "metadata": {
        "id": "view-in-github",
        "colab_type": "text"
      },
      "source": [
        "<a href=\"https://colab.research.google.com/github/fpmacedo/Bootcamp-IGTI-Machine-Learning/blob/main/Pratica_Modulo_02.ipynb\" target=\"_parent\"><img src=\"https://colab.research.google.com/assets/colab-badge.svg\" alt=\"Open In Colab\"/></a>"
      ]
    },
    {
      "cell_type": "code",
      "metadata": {
        "id": "Dlyzfi6E_A5M"
      },
      "source": [
        "import numpy as np\r\n",
        "import pandas as pd"
      ],
      "execution_count": 1,
      "outputs": []
    },
    {
      "cell_type": "code",
      "metadata": {
        "id": "HzReVUl4_ErI"
      },
      "source": [
        "df = pd.read_csv(\"https://pycourse.s3.amazonaws.com/bike-sharing.csv\")"
      ],
      "execution_count": 2,
      "outputs": []
    },
    {
      "cell_type": "markdown",
      "metadata": {
        "id": "PEhSUBshH8wi"
      },
      "source": [
        " Qual o tamanho desse dataset?"
      ]
    },
    {
      "cell_type": "code",
      "metadata": {
        "colab": {
          "base_uri": "https://localhost:8080/"
        },
        "id": "SkM9qpMb_IdD",
        "outputId": "7012c349-d62b-4dc2-bf4a-51ed865a8108"
      },
      "source": [
        "df.shape"
      ],
      "execution_count": 3,
      "outputs": [
        {
          "output_type": "execute_result",
          "data": {
            "text/plain": [
              "(17379, 17)"
            ]
          },
          "metadata": {
            "tags": []
          },
          "execution_count": 3
        }
      ]
    },
    {
      "cell_type": "markdown",
      "metadata": {
        "id": "Lviq00llH5s_"
      },
      "source": [
        "Qual a média da coluna windspeed?\r\n"
      ]
    },
    {
      "cell_type": "code",
      "metadata": {
        "colab": {
          "base_uri": "https://localhost:8080/"
        },
        "id": "KZjQa5ul_LsE",
        "outputId": "18b4082f-4d64-486e-cf28-6db63f31d632"
      },
      "source": [
        "df['windspeed'].mean()"
      ],
      "execution_count": 4,
      "outputs": [
        {
          "output_type": "execute_result",
          "data": {
            "text/plain": [
              "0.1900976063064631"
            ]
          },
          "metadata": {
            "tags": []
          },
          "execution_count": 4
        }
      ]
    },
    {
      "cell_type": "markdown",
      "metadata": {
        "id": "zTBhXS4ZH5GM"
      },
      "source": [
        "Qual a média da coluna temp?"
      ]
    },
    {
      "cell_type": "code",
      "metadata": {
        "colab": {
          "base_uri": "https://localhost:8080/"
        },
        "id": "UO3WQBQ__XMw",
        "outputId": "faa2af8c-ecb3-42b3-95b7-15013357d738"
      },
      "source": [
        "df['temp'].mean()"
      ],
      "execution_count": 6,
      "outputs": [
        {
          "output_type": "execute_result",
          "data": {
            "text/plain": [
              "0.4969871684216586"
            ]
          },
          "metadata": {
            "tags": []
          },
          "execution_count": 6
        }
      ]
    },
    {
      "cell_type": "code",
      "metadata": {
        "colab": {
          "base_uri": "https://localhost:8080/",
          "height": 204
        },
        "id": "SexRap6X_cl9",
        "outputId": "411423f1-767c-4bc9-9cc6-84b025c09c5e"
      },
      "source": [
        "df.head()"
      ],
      "execution_count": 7,
      "outputs": [
        {
          "output_type": "execute_result",
          "data": {
            "text/html": [
              "<div>\n",
              "<style scoped>\n",
              "    .dataframe tbody tr th:only-of-type {\n",
              "        vertical-align: middle;\n",
              "    }\n",
              "\n",
              "    .dataframe tbody tr th {\n",
              "        vertical-align: top;\n",
              "    }\n",
              "\n",
              "    .dataframe thead th {\n",
              "        text-align: right;\n",
              "    }\n",
              "</style>\n",
              "<table border=\"1\" class=\"dataframe\">\n",
              "  <thead>\n",
              "    <tr style=\"text-align: right;\">\n",
              "      <th></th>\n",
              "      <th>datetime</th>\n",
              "      <th>rec_id</th>\n",
              "      <th>season</th>\n",
              "      <th>year</th>\n",
              "      <th>month</th>\n",
              "      <th>hour</th>\n",
              "      <th>is_holiday</th>\n",
              "      <th>weekday</th>\n",
              "      <th>is_workingday</th>\n",
              "      <th>weather_condition</th>\n",
              "      <th>temp</th>\n",
              "      <th>atemp</th>\n",
              "      <th>humidity</th>\n",
              "      <th>windspeed</th>\n",
              "      <th>casual</th>\n",
              "      <th>registered</th>\n",
              "      <th>total_count</th>\n",
              "    </tr>\n",
              "  </thead>\n",
              "  <tbody>\n",
              "    <tr>\n",
              "      <th>0</th>\n",
              "      <td>2011-01-01</td>\n",
              "      <td>1</td>\n",
              "      <td>1</td>\n",
              "      <td>0</td>\n",
              "      <td>1</td>\n",
              "      <td>0</td>\n",
              "      <td>0</td>\n",
              "      <td>6</td>\n",
              "      <td>0</td>\n",
              "      <td>1</td>\n",
              "      <td>0.24</td>\n",
              "      <td>0.2879</td>\n",
              "      <td>0.81</td>\n",
              "      <td>0.0</td>\n",
              "      <td>3</td>\n",
              "      <td>13</td>\n",
              "      <td>16</td>\n",
              "    </tr>\n",
              "    <tr>\n",
              "      <th>1</th>\n",
              "      <td>2011-01-01</td>\n",
              "      <td>2</td>\n",
              "      <td>1</td>\n",
              "      <td>0</td>\n",
              "      <td>1</td>\n",
              "      <td>1</td>\n",
              "      <td>0</td>\n",
              "      <td>6</td>\n",
              "      <td>0</td>\n",
              "      <td>1</td>\n",
              "      <td>0.22</td>\n",
              "      <td>0.2727</td>\n",
              "      <td>0.80</td>\n",
              "      <td>0.0</td>\n",
              "      <td>8</td>\n",
              "      <td>32</td>\n",
              "      <td>40</td>\n",
              "    </tr>\n",
              "    <tr>\n",
              "      <th>2</th>\n",
              "      <td>2011-01-01</td>\n",
              "      <td>3</td>\n",
              "      <td>1</td>\n",
              "      <td>0</td>\n",
              "      <td>1</td>\n",
              "      <td>2</td>\n",
              "      <td>0</td>\n",
              "      <td>6</td>\n",
              "      <td>0</td>\n",
              "      <td>1</td>\n",
              "      <td>0.22</td>\n",
              "      <td>0.2727</td>\n",
              "      <td>0.80</td>\n",
              "      <td>0.0</td>\n",
              "      <td>5</td>\n",
              "      <td>27</td>\n",
              "      <td>32</td>\n",
              "    </tr>\n",
              "    <tr>\n",
              "      <th>3</th>\n",
              "      <td>2011-01-01</td>\n",
              "      <td>4</td>\n",
              "      <td>1</td>\n",
              "      <td>0</td>\n",
              "      <td>1</td>\n",
              "      <td>3</td>\n",
              "      <td>0</td>\n",
              "      <td>6</td>\n",
              "      <td>0</td>\n",
              "      <td>1</td>\n",
              "      <td>0.24</td>\n",
              "      <td>0.2879</td>\n",
              "      <td>0.75</td>\n",
              "      <td>0.0</td>\n",
              "      <td>3</td>\n",
              "      <td>10</td>\n",
              "      <td>13</td>\n",
              "    </tr>\n",
              "    <tr>\n",
              "      <th>4</th>\n",
              "      <td>2011-01-01</td>\n",
              "      <td>5</td>\n",
              "      <td>1</td>\n",
              "      <td>0</td>\n",
              "      <td>1</td>\n",
              "      <td>4</td>\n",
              "      <td>0</td>\n",
              "      <td>6</td>\n",
              "      <td>0</td>\n",
              "      <td>1</td>\n",
              "      <td>0.24</td>\n",
              "      <td>0.2879</td>\n",
              "      <td>0.75</td>\n",
              "      <td>0.0</td>\n",
              "      <td>0</td>\n",
              "      <td>1</td>\n",
              "      <td>1</td>\n",
              "    </tr>\n",
              "  </tbody>\n",
              "</table>\n",
              "</div>"
            ],
            "text/plain": [
              "     datetime  rec_id  season  year  ...  windspeed  casual  registered  total_count\n",
              "0  2011-01-01       1       1     0  ...        0.0       3          13           16\n",
              "1  2011-01-01       2       1     0  ...        0.0       8          32           40\n",
              "2  2011-01-01       3       1     0  ...        0.0       5          27           32\n",
              "3  2011-01-01       4       1     0  ...        0.0       3          10           13\n",
              "4  2011-01-01       5       1     0  ...        0.0       0           1            1\n",
              "\n",
              "[5 rows x 17 columns]"
            ]
          },
          "metadata": {
            "tags": []
          },
          "execution_count": 7
        }
      ]
    },
    {
      "cell_type": "markdown",
      "metadata": {
        "id": "wItUMsOGH2YY"
      },
      "source": [
        "Quantos registros existem para o ano de 2011?\r\n"
      ]
    },
    {
      "cell_type": "code",
      "metadata": {
        "colab": {
          "base_uri": "https://localhost:8080/"
        },
        "id": "t0Iy2pO9_kuB",
        "outputId": "dca717df-51e6-4d79-ba9d-7d5fb6b7f55b"
      },
      "source": [
        "df['datetime'].str.contains('2011').sum()"
      ],
      "execution_count": 12,
      "outputs": [
        {
          "output_type": "execute_result",
          "data": {
            "text/plain": [
              "8645"
            ]
          },
          "metadata": {
            "tags": []
          },
          "execution_count": 12
        }
      ]
    },
    {
      "cell_type": "markdown",
      "metadata": {
        "id": "bq-1MUdMH1XN"
      },
      "source": [
        ". Quantos registros existem para o ano de 2012?"
      ]
    },
    {
      "cell_type": "code",
      "metadata": {
        "colab": {
          "base_uri": "https://localhost:8080/"
        },
        "id": "iHwvgAYDAFLQ",
        "outputId": "2fd62344-bfd4-459f-9fd5-6bfcf0aacdbd"
      },
      "source": [
        "df['datetime'].str.contains('2012').sum()"
      ],
      "execution_count": 13,
      "outputs": [
        {
          "output_type": "execute_result",
          "data": {
            "text/plain": [
              "8734"
            ]
          },
          "metadata": {
            "tags": []
          },
          "execution_count": 13
        }
      ]
    },
    {
      "cell_type": "markdown",
      "metadata": {
        "id": "p-rFCDU0HzIe"
      },
      "source": [
        "Quantas locações de bicicletas foram efetuadas em 2011?\r\n"
      ]
    },
    {
      "cell_type": "code",
      "metadata": {
        "colab": {
          "base_uri": "https://localhost:8080/"
        },
        "id": "N9cIriN_AJyk",
        "outputId": "406d2bcb-2cf1-4736-fb0d-43743c86d32b"
      },
      "source": [
        "df_2011 = df[df['datetime'].str.contains(\"2011\")]\r\n",
        "\r\n",
        "df_2011['total_count'].sum()"
      ],
      "execution_count": 30,
      "outputs": [
        {
          "output_type": "execute_result",
          "data": {
            "text/plain": [
              "1243103"
            ]
          },
          "metadata": {
            "tags": []
          },
          "execution_count": 30
        }
      ]
    },
    {
      "cell_type": "markdown",
      "metadata": {
        "id": "xNlunFTKHxXf"
      },
      "source": [
        "Quantas locações de bicicletas foram efetuadas em 2012?\r\n"
      ]
    },
    {
      "cell_type": "code",
      "metadata": {
        "colab": {
          "base_uri": "https://localhost:8080/"
        },
        "id": "CTvF7ocZGDwc",
        "outputId": "7ee876c3-8d74-4ac0-e6d2-f72be25e59f4"
      },
      "source": [
        "df_2012 = df[df['datetime'].str.contains(\"2012\")]\r\n",
        "\r\n",
        "df_2012['total_count'].sum()"
      ],
      "execution_count": 32,
      "outputs": [
        {
          "output_type": "execute_result",
          "data": {
            "text/plain": [
              "2049576"
            ]
          },
          "metadata": {
            "tags": []
          },
          "execution_count": 32
        }
      ]
    },
    {
      "cell_type": "markdown",
      "metadata": {
        "id": "pWJHSnRsHu74"
      },
      "source": [
        "Qual estação do ano contém a maior média de locações de bicicletas?\r\n"
      ]
    },
    {
      "cell_type": "code",
      "metadata": {
        "colab": {
          "base_uri": "https://localhost:8080/"
        },
        "id": "xFjJK3dRGXCy",
        "outputId": "b25389be-d431-4022-8f2c-0a5fd22932c5"
      },
      "source": [
        "df['season'].unique()"
      ],
      "execution_count": 39,
      "outputs": [
        {
          "output_type": "execute_result",
          "data": {
            "text/plain": [
              "array([1, 2, 3, 4])"
            ]
          },
          "metadata": {
            "tags": []
          },
          "execution_count": 39
        }
      ]
    },
    {
      "cell_type": "code",
      "metadata": {
        "colab": {
          "base_uri": "https://localhost:8080/"
        },
        "id": "L3g3l87NG9jP",
        "outputId": "79d4cb86-0020-492f-89f6-20fe6ed82746"
      },
      "source": [
        "print('Season 1 mean = ', df.query(\"season == 1\")[\"total_count\"].mean())\r\n",
        "print('Season 2 mean = ', df.query(\"season == 2\")[\"total_count\"].mean())\r\n",
        "print('Season 3 mean = ', df.query(\"season == 3\")[\"total_count\"].mean())\r\n",
        "print('Season 4 mean = ', df.query(\"season == 4\")[\"total_count\"].mean())"
      ],
      "execution_count": 43,
      "outputs": [
        {
          "output_type": "stream",
          "text": [
            "Season 1 mean =  111.11456859971712\n",
            "Season 2 mean =  208.34406894987526\n",
            "Season 3 mean =  236.01623665480426\n",
            "Season 4 mean =  198.86885633270322\n"
          ],
          "name": "stdout"
        }
      ]
    },
    {
      "cell_type": "markdown",
      "metadata": {
        "id": "kHKHDFZZIAbC"
      },
      "source": [
        "Qual horário do dia contém a maior média de locações de bicicletas?\r\n"
      ]
    },
    {
      "cell_type": "code",
      "metadata": {
        "colab": {
          "base_uri": "https://localhost:8080/"
        },
        "id": "ao20vqABHQ0g",
        "outputId": "ebe46dc8-f6b5-4add-f065-0ad6877e932d"
      },
      "source": [
        "hours = df['hour'].unique()\r\n",
        "hours"
      ],
      "execution_count": 48,
      "outputs": [
        {
          "output_type": "execute_result",
          "data": {
            "text/plain": [
              "array([ 0,  1,  2,  3,  4,  5,  6,  7,  8,  9, 10, 11, 12, 13, 14, 15, 16,\n",
              "       17, 18, 19, 20, 21, 22, 23])"
            ]
          },
          "metadata": {
            "tags": []
          },
          "execution_count": 48
        }
      ]
    },
    {
      "cell_type": "code",
      "metadata": {
        "colab": {
          "base_uri": "https://localhost:8080/"
        },
        "id": "Iqas_DePIFLH",
        "outputId": "9e0480e0-90f5-4456-f486-47fc2b5438bf"
      },
      "source": [
        "mean_hour = []\r\n",
        "for hour in hours:\r\n",
        "  mean_hour.append(df.query(\"hour == @hour\")[\"total_count\"].mean())\r\n",
        "print(\"Hour = {:d}, Mean = {:.2f}\".format(mean_hour.index(max(mean_hour)),max(mean_hour)) )\r\n",
        "\r\n"
      ],
      "execution_count": 60,
      "outputs": [
        {
          "output_type": "stream",
          "text": [
            "Hour = 17, Mean = 461.45\n"
          ],
          "name": "stdout"
        }
      ]
    },
    {
      "cell_type": "markdown",
      "metadata": {
        "id": "EWfUEvyHKYc8"
      },
      "source": [
        "Qual horário do dia contém a menor média de locações de bicicletas?"
      ]
    },
    {
      "cell_type": "code",
      "metadata": {
        "colab": {
          "base_uri": "https://localhost:8080/"
        },
        "id": "iWA-XgFVKUUE",
        "outputId": "54084ee8-458e-4aed-eecd-d67815a87363"
      },
      "source": [
        "mean_hour = []\r\n",
        "for hour in hours:\r\n",
        "  mean_hour.append(df.query(\"hour == @hour\")[\"total_count\"].mean())\r\n",
        "print(\"Hour = {:d}, Mean = {:.2f}\".format(mean_hour.index(min(mean_hour)),min(mean_hour)) )\r\n"
      ],
      "execution_count": 61,
      "outputs": [
        {
          "output_type": "stream",
          "text": [
            "Hour = 4, Mean = 6.35\n"
          ],
          "name": "stdout"
        }
      ]
    },
    {
      "cell_type": "markdown",
      "metadata": {
        "id": "wDaz0lPsKflv"
      },
      "source": [
        "Que dia da semana contém a maior média de locações de bicicletas?"
      ]
    },
    {
      "cell_type": "code",
      "metadata": {
        "colab": {
          "base_uri": "https://localhost:8080/"
        },
        "id": "rKghJJlYKjHf",
        "outputId": "c80750b2-0a2b-40df-c126-ef78961fc42a"
      },
      "source": [
        "days = df['weekday'].unique()\r\n"
      ],
      "execution_count": 90,
      "outputs": [
        {
          "output_type": "execute_result",
          "data": {
            "text/plain": [
              "0"
            ]
          },
          "metadata": {
            "tags": []
          },
          "execution_count": 90
        }
      ]
    },
    {
      "cell_type": "code",
      "metadata": {
        "colab": {
          "base_uri": "https://localhost:8080/"
        },
        "id": "lQcMWhmyKf78",
        "outputId": "0a17084f-b6f7-4fa1-de12-8aaae39d04dc"
      },
      "source": [
        "mean_day = []\r\n",
        "for day in days:\r\n",
        "  mean_day.append(df.query(\"weekday == @day\")[\"total_count\"].mean())\r\n",
        "print(\"Day = {:d}, Mean = {:.2f}\".format(days[mean_day.index(max(mean_day))],max(mean_day)) )\r\n"
      ],
      "execution_count": 94,
      "outputs": [
        {
          "output_type": "stream",
          "text": [
            "Day = 4, Mean = 196.44\n"
          ],
          "name": "stdout"
        }
      ]
    },
    {
      "cell_type": "markdown",
      "metadata": {
        "id": "rtj1croJLqZx"
      },
      "source": [
        ". Que dia da semana contém a menor média de locações de bicicletas?"
      ]
    },
    {
      "cell_type": "code",
      "metadata": {
        "colab": {
          "base_uri": "https://localhost:8080/"
        },
        "id": "r0zjtPugLlD_",
        "outputId": "beb8c6fa-6ad5-4ec6-8c3f-56c131da6349"
      },
      "source": [
        "mean_day = []\r\n",
        "for day in days:\r\n",
        "  mean_day.append(df.query(\"weekday == @day\")[\"total_count\"].mean())\r\n",
        "print(\"Day = {:d}, Mean = {:.2f}\".format(days[mean_day.index(min(mean_day))],min(mean_day)) )\r\n"
      ],
      "execution_count": 95,
      "outputs": [
        {
          "output_type": "stream",
          "text": [
            "Day = 0, Mean = 177.47\n"
          ],
          "name": "stdout"
        }
      ]
    },
    {
      "cell_type": "markdown",
      "metadata": {
        "id": "FRMwhJqlLvNe"
      },
      "source": [
        "Às quartas-feiras (weekday = 3), qual o horário do dia contém a maior média\r\n",
        "de locações de bicicletas?"
      ]
    },
    {
      "cell_type": "code",
      "metadata": {
        "colab": {
          "base_uri": "https://localhost:8080/"
        },
        "id": "9CZ3JRwMLv-Y",
        "outputId": "8799e404-aa6f-4fdc-fb64-db79a4973ed2"
      },
      "source": [
        "mean_hour = []\r\n",
        "for hour in hours:\r\n",
        "  mean_hour.append(df.query(\"hour == @hour & weekday == 3\")[\"total_count\"].mean())\r\n",
        "print(\"Hour = {:d}, Mean = {:.2f}\".format(mean_hour.index(max(mean_hour)),max(mean_hour)) )"
      ],
      "execution_count": 77,
      "outputs": [
        {
          "output_type": "stream",
          "text": [
            "Hour = 17, Mean = 513.14\n"
          ],
          "name": "stdout"
        }
      ]
    },
    {
      "cell_type": "markdown",
      "metadata": {
        "id": "4u5UyoI0MKLo"
      },
      "source": [
        "Aos sábados (weekday = 6), qual o horário do dia contém a maior média de\r\n",
        "locações de bicicletas?"
      ]
    },
    {
      "cell_type": "code",
      "metadata": {
        "colab": {
          "base_uri": "https://localhost:8080/"
        },
        "id": "4mMclwq5MIrk",
        "outputId": "f648274d-9aab-4a57-a7f8-9e410d99cbd5"
      },
      "source": [
        "mean_hour = []\r\n",
        "for hour in hours:\r\n",
        "  mean_hour.append(df.query(\"hour == @hour & weekday == 6\")[\"total_count\"].mean())\r\n",
        "print(\"Hour = {:d}, Mean = {:.2f}\".format(mean_hour.index(max(mean_hour)),max(mean_hour)) )"
      ],
      "execution_count": 78,
      "outputs": [
        {
          "output_type": "stream",
          "text": [
            "Hour = 13, Mean = 385.37\n"
          ],
          "name": "stdout"
        }
      ]
    }
  ]
}